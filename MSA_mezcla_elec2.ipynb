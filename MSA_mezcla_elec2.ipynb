{
 "cells": [
  {
   "cell_type": "code",
   "execution_count": 12,
   "metadata": {},
   "outputs": [],
   "source": [
    "using Plots\n",
    "using Roots\n",
    "using DelimitedFiles\n",
    "using LinearAlgebra\n",
    "using NLsolve"
   ]
  },
  {
   "cell_type": "code",
   "execution_count": 420,
   "metadata": {},
   "outputs": [
    {
     "data": {
      "text/plain": [
       "179.1530944625407"
      ]
     },
     "execution_count": 420,
     "metadata": {},
     "output_type": "execute_result"
    }
   ],
   "source": [
    "#Programa para calcular el  factor de estructura de una mezcla\n",
    "#de esferas duras cargadas utilizando MSA\n",
    "\n",
    "#Parámetros globales\n",
    "\n",
    "global ϕ = 0.1\n",
    "global z = [ 1, -1]                 #Carga en cada especie en unidades de e\n",
    "global zd = z[1]/z[2]\n",
    "global σ = [1, 10]                   #Radio en cada especie, reducido con la especie 1\n",
    "global σd3=(σ[2]/σ[1])^3\n",
    "global ρ1=6*ϕ/(π*(σ[1]^3)*(1- zd*σd3))\n",
    "global ρ = [ρ1,-ρ1*zd]               #Desnsidad reducida de cada especie\n",
    "global m = 2                         #Número de especies\n",
    "global σ12=(σ[1] + σ[2])/2\n",
    "global z12=abs(z[1]*z[2])\n",
    "#global ϵ = 81.1                      #Constante dieléctrica del agua\n",
    "global Tred = 0.0307               #Temperatura\n",
    "global βred = σ12/(z12*Tred)         #Beta reducida\n"
   ]
  },
  {
   "cell_type": "code",
   "execution_count": 421,
   "metadata": {},
   "outputs": [
    {
     "data": {
      "text/plain": [
       "ρChs (generic function with 1 method)"
      ]
     },
     "execution_count": 421,
     "metadata": {},
     "output_type": "execute_result"
    }
   ],
   "source": [
    "#Cálculo de la función de correlación directa en el espacio de fourier\n",
    "#para mezclas de esferas duras\n",
    "\n",
    "function Qk(k,i,j)\n",
    "    \n",
    "    ζ2 = 0   \n",
    "    for q=1:m\n",
    "    ζ2 = ζ2 + ρ[q]*(σ[q]^2)*π/6\n",
    "    end \n",
    "    \n",
    "    ζ3 = 0   \n",
    "    for q=1:m\n",
    "    ζ3 = ζ3 + ρ[q]*(σ[q]^3)*π/6\n",
    "    end \n",
    "    \n",
    "   \n",
    "   Sr =(σ[i] - σ[j])/2 \n",
    "   R = (σ[i] + σ[j])/2\n",
    "   ai = (1- ζ3 + 3*σ[i]*ζ2)/((1 - ζ3)^2)\n",
    "   bi = -(3/2)*(σ[i]^2)*ζ2/((1-ζ3)^2)\n",
    "    \n",
    "   if i==j\n",
    "    delta=1 \n",
    "   else\n",
    "    delta=0\n",
    "   end \n",
    " \n",
    "  \n",
    "    pR=(ai/2)*exp(im*k*R)*((2-2*im*k*R-(k^2)*(R^2))/(im*k)^3) -(ai/2)*(R^2)*(exp(im*k*R)/(im*k)) +bi*exp(im*k*R)*((im*k*R - 1)/((im*k)^2)) - bi*R*(exp(im*k*R)/(im*k))\n",
    "    \n",
    "    pS=(ai/2)*exp(im*k*Sr)*((2-2*im*k*Sr-(k^2)*(Sr^2))/(im*k)^3) -(ai/2)*(R^2)*(exp(im*k*Sr)/(im*k)) +bi*exp(im*k*Sr)*((im*k*Sr - 1)/((im*k)^2)) - bi*R*(exp(im*k*Sr)/(im*k))\n",
    "    \n",
    "    Q= delta - 2*π*sqrt(ρ[i]*ρ[j])*(pR-pS)\n",
    "    \n",
    "    return Q\n",
    "end\n",
    "\n",
    "function Q(k)\n",
    "        \n",
    "    Q = [[Qk(k,1,1),Qk(k,2,1)]  [Qk(k,1,2),Qk(k,2,2)] ]\n",
    "\n",
    "   \n",
    "    return Q\n",
    "end\n",
    "\n",
    "function QT(k)\n",
    "        \n",
    "    QT=transpose(Q(-k))\n",
    "   \n",
    "    return QT\n",
    "end\n",
    "\n",
    "function Shs(k)  \n",
    "    \n",
    "    \n",
    "    S=inv(QT(k)*Q(k))\n",
    "    \n",
    "    return real(S)\n",
    "end\n",
    "\n",
    "#Función de correlción directa de mezclas de esferas duras\n",
    "\n",
    "function ρChs(k)  \n",
    "    \n",
    "    I= [[1,0] [0,1]]\n",
    "    \n",
    "    C=(Shs(k)- I)/(Shs(k))\n",
    "    \n",
    "    return C\n",
    "end"
   ]
  },
  {
   "cell_type": "code",
   "execution_count": 422,
   "metadata": {},
   "outputs": [
    {
     "data": {
      "text/plain": [
       "ρCelec (generic function with 1 method)"
      ]
     },
     "execution_count": 422,
     "metadata": {},
     "output_type": "execute_result"
    }
   ],
   "source": [
    "#.................................................................................................\n",
    "#Función para Xi y Ni necesarias para los cálculos de Cij y cálculo de Γ\n",
    "\n",
    "cs=0\n",
    "for j=1:m\n",
    "     cs= cs + ρ[j]*σ[j]^3\n",
    "end\n",
    "\n",
    "global p=(π/2)/(1 - (π/6)*cs)\n",
    "\n",
    "\n",
    "function X(i,Γ)\n",
    "               \n",
    "    X2=0    \n",
    "    for j=1:m\n",
    "        X2= X2 + ρ[j]*σ[j]*z[j]/(1 + Γ*σ[j])\n",
    "    end\n",
    "    \n",
    "    X3=0\n",
    "    for j=1:m\n",
    "        X3= X3 + ρ[j]*(σ[j]^3)/(1 + Γ*σ[j])\n",
    "    end\n",
    "    \n",
    "    X4= (z[i]/(1+ Γ*σ[i])) - (p*(σ[i]^2)/(1+ Γ*σ[i]))*(X2/(1 + p*X3))\n",
    "        \n",
    "    return X4\n",
    "end\n",
    "\n",
    "function F(Γ)\n",
    "    \n",
    "D=0\n",
    "for j=1:m\n",
    "    D= D + ρ[j]*(X(j,Γ)^2)\n",
    "end   \n",
    "    \n",
    "F =  (Γ^2) - π*βred*D\n",
    "\n",
    "    return F\n",
    "end\n",
    "\n",
    "global Γg=find_zero(F, 1)\n",
    "\n",
    "function N(i)\n",
    "    \n",
    "  N=(X(i,Γg) - z[i])/σ[i]\n",
    "\n",
    "    return N\n",
    "end\n",
    "\n",
    "\n",
    "#................................................................................................\n",
    "#Calculo de la función de correlación directa de mezclas de cargas\n",
    "\n",
    "function ckelec(k,i,j)\n",
    "    \n",
    "    σij=(σ[i] + σ[j])/2\n",
    "    σmin= (σ[j] - σ[i])/2 \n",
    "   \n",
    "\n",
    "#Constante de 0 a  σmin\n",
    "c1 = -2*(-z[i]*N(j) + X(i,Γg)*(N(i) + Γg*X(i,Γg)) - (σ[i]/3)*((N(i) + Γg*X(i,Γg))^2))    \n",
    "\n",
    "#Constantes de  σmin a σij\n",
    "c2 = (σ[i]-σ[j])*(((X(i,Γg) + X(j,Γg))/4)*(N(i) + Γg*(X(i,Γg)-X(j,Γg)) - N(j)) - ((σ[i]-σ[j])/16)*((N(i) + Γg*(X(i,Γg)+X(j,Γg)) + N(j))^2 - 4*N(i)*N(j))) \n",
    "c3 = -((X(i,Γg)-X(j,Γg))*(N(i)-N(j)) + (X(i,Γg)^2 + X(j,Γg)^2)*Γg + (σ[i] + σ[j])*N(i)*N(j) -(1/3)*(σ[i]*(N(i) + Γg*X(i,Γg))^2 + σ[j]*(N(j) + Γg*X(j,Γg))^2))\n",
    "c4 = ((X(i,Γg)/σ[i])*(N(i) + Γg*X(i,Γg)) + (X(j,Γg)/σ[j])*(N(j) + Γg*X(j,Γg)) + N(i)*N(j) -(1/2)*((N(i) + Γg*X(i,Γg))^2 + (N(j) + Γg*X(j,Γg))^2))\n",
    "c5 = ((1/(6*σ[i]^2))*(N(i) + Γg*X(i,Γg))^2 + (1/(6*σ[j]^2))*(N(j) + Γg*X(j,Γg))^2) \n",
    "            \n",
    "#Constante de  σij a infinito         \n",
    "c6= -z[i]*z[j]        \n",
    "                    \n",
    "I = (sin(k*σmin)-k*σmin*cos(k*σmin))/(k^2)\n",
    "    \n",
    "II = (cos(k*σmin) - cos(k*σij))/k\n",
    "    \n",
    "III = (sin(k*σij)-k*σij*cos(k*σij) - sin(k*σmin) +k*σmin*cos(k*σmin))/(k^2)\n",
    "    \n",
    "IV = ((2 - (k^2)*(σij^2))*cos(k*σij) + 2*k*σij*sin(k*σij) -(2 - (k^2)*(σmin^2))*cos(k*σmin) - 2*k*σmin*sin(k*σmin))/(k^3)\n",
    "    \n",
    "V = (4*k*σij*((k^2)*(σij^2)-6)*sin(k*σij) - ((k^4)*(σij^4) - 12*(k^2)*(σij^2) + 24)*cos(k*σij) - 4*k*σmin*((k^2)*(σmin^2)-6)*sin(k*σmin) + ((k^4)*(σmin^4) - 12*(k^2)*(σmin^2) + 24)*cos(k*σmin))/(k^5)\n",
    "    \n",
    "VI = cos(k*σij)/k\n",
    " \n",
    "    \n",
    "c = sqrt(ρ[i]*ρ[j])*(4*π*βred/k)*(c1*I + c2*II + c3*III + c4*IV + c5*V + c6*VI)\n",
    "\n",
    "    \n",
    "    return c\n",
    "end\n",
    "  \n",
    "#Funcion de correlación directa de mezcla de cargas\n",
    "function ρCelec(k)\n",
    "        \n",
    "    B = [[ckelec(k,1,1),ckelec(k,2,1) ] [ckelec(k,1,2),ckelec(k,2,2) ] ]\n",
    "\n",
    "   \n",
    "    return B\n",
    "end"
   ]
  },
  {
   "cell_type": "code",
   "execution_count": 423,
   "metadata": {},
   "outputs": [
    {
     "data": {
      "text/plain": [
       "S (generic function with 1 method)"
      ]
     },
     "execution_count": 423,
     "metadata": {},
     "output_type": "execute_result"
    }
   ],
   "source": [
    "#Matrix de la función de correlación directa de mezclas de esferas duras cargadas\n",
    "function ρC(k)\n",
    "        \n",
    "    B = ρChs(k) + ρCelec(k)\n",
    "   \n",
    "    return B\n",
    "end\n",
    "\n",
    "#Factor de estructura directa de mezclas de esferas duras cargadas\n",
    "function S(k)\n",
    "        \n",
    "    I= [[1,0] [0,1]]\n",
    "        \n",
    "    A = inv(I - ρC(k))\n",
    "   \n",
    "    return A\n",
    "end\n",
    "\n"
   ]
  },
  {
   "cell_type": "code",
   "execution_count": 424,
   "metadata": {},
   "outputs": [],
   "source": [
    "#Plots.plot(k ->  S(k)[1,1], 0,40)\n",
    "#Plots.plot!(k ->  S(k)[2,1], 0,40)\n",
    "#Plots.plot!(k ->  S(k)[2,2], 0,40)"
   ]
  },
  {
   "cell_type": "code",
   "execution_count": 425,
   "metadata": {},
   "outputs": [
    {
     "name": "stdout",
     "output_type": "stream",
     "text": [
      "Data saved asSK04.dat\n"
     ]
    }
   ],
   "source": [
    "#Generamos vector de S(k)\n",
    "global kv = [ 0.05*i for i=1:800]\n",
    "\n",
    "ST=[S(kv[i]) for i=1:800 ]\n",
    "\n",
    "S11 = [ST[i][1,1] for i=1:800 ]\n",
    "S21 = [ST[i][2,1] for i=1:800 ]\n",
    "S12 = [ST[i][1,2] for i=1:800 ]\n",
    "S22 = [ST[i][2,2] for i=1:800 ]\n",
    "\n",
    "\n",
    "function save_data(nombre,formato)\n",
    "    @assert typeof(nombre) == typeof(\"hola\")\n",
    "    open(nombre, \"w\") do io\n",
    "        writedlm(io,formato)\n",
    "    end\n",
    "    println(\"Data saved as\", nombre)\n",
    "end\n",
    "\n",
    "\n",
    "SK= save_data(\"SK04.dat\", [kv S11 S12 S21 S22])\n"
   ]
  },
  {
   "cell_type": "code",
   "execution_count": 426,
   "metadata": {},
   "outputs": [
    {
     "data": {
      "text/plain": [
       "λ (generic function with 1 method)"
      ]
     },
     "execution_count": 426,
     "metadata": {},
     "output_type": "execute_result"
    }
   ],
   "source": [
    "#Cálculo del arresto dinámico de una mezcla de esferas duras cargadas\n",
    "\n",
    "#Matriz de la función de correlacion directa\n",
    "\n",
    "function C(k)\n",
    "    \n",
    "A = [[ρC(k)[1,1]/ρ[1],ρC(k)[2,1]/sqrt(ρ[2]*ρ[1])] [ρC(k)[1,2]/sqrt(ρ[1]*ρ[2]),ρC(k)[2,2]/ρ[2]]]\n",
    "\n",
    "return A\n",
    "end\n",
    "\n",
    "CT=[C(kv[i]) for i=1:800 ]\n",
    "\n",
    "#Matriz de la función de correlacion total \n",
    "\n",
    "function H(k)\n",
    "\n",
    "A = [[(S(k)[1,1]-1)/ρ[1],(S(k)[2,1])/sqrt(ρ[2]*ρ[1])] [(S(k)[1,2])/sqrt(ρ[1]*ρ[2]),(S(k)[2,2]-1)/ρ[2]]] \n",
    "\n",
    "return A\n",
    "end\n",
    "\n",
    "HT=[H(kv[i]) for i=1:800 ]\n",
    "\n",
    "function λ(k)\n",
    "\n",
    " kmin=2*π*1.305/σ[1]\n",
    " lam=1/(1+(k/kmin)^2)\n",
    "\n",
    " λ= [[lam,0] [0,lam]]\n",
    "\n",
    "return  λ\n",
    "end"
   ]
  },
  {
   "cell_type": "code",
   "execution_count": 427,
   "metadata": {},
   "outputs": [
    {
     "name": "stdout",
     "output_type": "stream",
     "text": [
      "Data saved asCK.dat\n",
      "Data saved asHK.dat\n"
     ]
    }
   ],
   "source": [
    "#Guardamos en archivos HT y CT\n",
    "\n",
    "C11 = [CT[i][1,1] for i=1:800 ]\n",
    "C21 = [CT[i][2,1] for i=1:800 ]\n",
    "C12 = [CT[i][1,2] for i=1:800 ]\n",
    "C22 = [CT[i][2,2] for i=1:800 ]\n",
    "\n",
    "\n",
    "CK= save_data(\"CK.dat\", [kv C11 C21 C12 C22])\n",
    "    \n",
    "H11 = [HT[i][1,1] for i=1:800 ]\n",
    "H21 = [HT[i][2,1] for i=1:800 ]\n",
    "H12 = [HT[i][1,2] for i=1:800 ]\n",
    "H22 = [HT[i][2,2] for i=1:800 ]\n",
    "\n",
    "HK= save_data(\"HK.dat\", [kv H11 H21 H12 H22])"
   ]
  },
  {
   "cell_type": "code",
   "execution_count": 428,
   "metadata": {},
   "outputs": [
    {
     "data": {
      "text/plain": [
       "γ (generic function with 1 method)"
      ]
     },
     "execution_count": 428,
     "metadata": {},
     "output_type": "execute_result"
    }
   ],
   "source": [
    "#Las siguientes funciones son para utilizar el metodo de punto fijo\n",
    "\n",
    "function γ(γ1,γ2)\n",
    "    \n",
    "    #Matriz de raiz de densidades\n",
    "    n2= [[sqrt(ρ[1]),0] [0,sqrt(ρ[2])]]\n",
    "    \n",
    "    #Matriz de gamma\n",
    "    γ=[[γ1,0] [0,γ2]]\n",
    "    \n",
    "    I= [[1,0] [0,1]]\n",
    "          \n",
    "    dk = kv[2]-kv[1]\n",
    "    suma1 = 0.0\n",
    "    suma2 = 0.0\n",
    "    i=0\n",
    "    \n",
    "    for i=1:800-1\n",
    "        \n",
    "        i=i+1\n",
    "        \n",
    "        A=inv(I + (kv[i]^2)*γ*inv(λ(kv[i])))\n",
    "        B=CT[i]*n2*inv(I + (kv[i]^2)*γ*inv(λ(kv[i]))*inv(ST[i]))*n2*HT[i]\n",
    "\n",
    "         suma1 = suma1 + (kv[i]^4)*A[1,1]*B[1,1]\n",
    "        \n",
    "         suma2 = suma2 + (kv[i]^4)*A[2,2]*B[2,2]\n",
    "\n",
    "    end\n",
    "          int1=suma1*dk/(6*pi^2)\n",
    "          int2=suma2*dk/(6*pi^2)\n",
    " \n",
    "    γ11= 1/int1\n",
    "    γ22= 1/int2\n",
    "\n",
    "\n",
    "    \n",
    "    return γ11, γ22\n",
    "end\n"
   ]
  },
  {
   "cell_type": "code",
   "execution_count": 429,
   "metadata": {
    "scrolled": true
   },
   "outputs": [],
   "source": [
    "inf=1.0e8 \n",
    "tol=1.0e-7\n",
    "errorγ1= 1.0\n",
    "errorγ2= 1.0\n",
    "γ1test=1.0e-6\n",
    "γ2test=1.0e-6\n",
    "i=0\n",
    "\n",
    "     while  tol<errorγ2 # ||  tol<errorγ2\n",
    "     \n",
    "           i=i+1       \n",
    "    \n",
    "           γp=γ(γ1test,γ2test)\n",
    "           γ1=γp[1]\n",
    "           γ2=γp[2]\n",
    "    \n",
    "           errorγ1=abs(1- γ1/γ1test)\n",
    "           errorγ2=abs(1- γ2/γ2test)\n",
    "    \n",
    "           #println(i,\" \",\" \",Float64(γ2))\n",
    "    \n",
    "           γ1test=γ1\n",
    "           γ2test=γ2 \n",
    "    \n",
    "     #if (inf<γ1 ||  inf<γ2) break\n",
    "    \n",
    "    if (inf<γ2) break\n",
    "    \n",
    "    end\n",
    "    \n",
    "    end"
   ]
  },
  {
   "cell_type": "code",
   "execution_count": 430,
   "metadata": {
    "scrolled": true
   },
   "outputs": [
    {
     "data": {
      "text/plain": [
       "23.94754601383124"
      ]
     },
     "execution_count": 430,
     "metadata": {},
     "output_type": "execute_result"
    }
   ],
   "source": [
    "γ2test"
   ]
  },
  {
   "cell_type": "code",
   "execution_count": null,
   "metadata": {},
   "outputs": [],
   "source": []
  },
  {
   "cell_type": "code",
   "execution_count": null,
   "metadata": {},
   "outputs": [],
   "source": []
  }
 ],
 "metadata": {
  "kernelspec": {
   "display_name": "Julia 1.5.3",
   "language": "julia",
   "name": "julia-1.5"
  },
  "language_info": {
   "file_extension": ".jl",
   "mimetype": "application/julia",
   "name": "julia",
   "version": "1.5.3"
  }
 },
 "nbformat": 4,
 "nbformat_minor": 2
}
